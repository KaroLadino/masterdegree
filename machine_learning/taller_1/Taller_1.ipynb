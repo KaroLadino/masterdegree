{
 "cells": [
  {
   "cell_type": "markdown",
   "metadata": {},
   "source": [
    "# Hola Profe\n",
    "\n",
    "Taller 1 - Aprendizaje automático - Ronald Morales - Cristian Árevalo - Karolina Ladino"
   ]
  },
  {
   "cell_type": "code",
   "execution_count": 1,
   "metadata": {},
   "outputs": [
    {
     "name": "stdout",
     "output_type": "stream",
     "text": [
      "Python: 3.6.5 |Anaconda, Inc.| (default, Mar 29 2018, 13:32:41) [MSC v.1900 64 bit (AMD64)]\n",
      "sklearn: 0.19.1\n",
      "scipy: 1.1.0\n",
      "numpy: 1.14.3\n",
      "matplotlib: 2.2.2\n",
      "pandas: 0.23.0\n",
      "sklearn: 0.19.1\n"
     ]
    }
   ],
   "source": [
    "#Revisando la versión de lo que vamos a usar\n",
    "\n",
    "# Python version\n",
    "import sys\n",
    "print('Python: {}'.format(sys.version))\n",
    "\n",
    "import sklearn\n",
    "print('sklearn: {}'.format(sklearn.__version__))\n",
    "\n",
    "# Scipy\n",
    "import scipy\n",
    "print('scipy: {}'.format(scipy.__version__))\n",
    "\n",
    "# Numpy\n",
    "import numpy\n",
    "print('numpy: {}'.format(numpy.__version__))\n",
    "\n",
    "# Matplotlib\n",
    "import matplotlib\n",
    "print('matplotlib: {}'.format(matplotlib.__version__))\n",
    "\n",
    "# Pandas\n",
    "import pandas\n",
    "print('pandas: {}'.format(pandas.__version__))\n",
    "\n",
    "# Scikit-learn\n",
    "import sklearn\n",
    "print('sklearn: {}'.format(sklearn.__version__))"
   ]
  },
  {
   "cell_type": "markdown",
   "metadata": {},
   "source": [
    "### Ejercicio IRIS\n",
    "Usamos [Rebasedata](https://www.rebasedata.com) para convertir el dataset de CVS a SQLite\n",
    "Lo cargaremos y probaremos un query: "
   ]
  },
  {
   "cell_type": "code",
   "execution_count": 88,
   "metadata": {},
   "outputs": [
    {
     "name": "stdout",
     "output_type": "stream",
     "text": [
      "(7.0,)\n",
      "(6.4,)\n",
      "(6.9,)\n",
      "(5.5,)\n",
      "(6.5,)\n",
      "(5.7,)\n",
      "(6.3,)\n",
      "(4.9,)\n",
      "(6.6,)\n",
      "(5.2,)\n",
      "(5.0,)\n",
      "(5.9,)\n",
      "(6.0,)\n",
      "(6.1,)\n",
      "(5.6,)\n",
      "(6.7,)\n",
      "(5.6,)\n",
      "(5.8,)\n",
      "(6.2,)\n",
      "(5.6,)\n",
      "(5.9,)\n",
      "(6.1,)\n",
      "(6.3,)\n",
      "(6.1,)\n",
      "(6.4,)\n",
      "(6.6,)\n",
      "(6.8,)\n",
      "(6.7,)\n",
      "(6.0,)\n",
      "(5.7,)\n",
      "(5.5,)\n",
      "(5.5,)\n",
      "(5.8,)\n",
      "(6.0,)\n",
      "(5.4,)\n",
      "(6.0,)\n",
      "(6.7,)\n",
      "(6.3,)\n",
      "(5.6,)\n",
      "(5.5,)\n",
      "(5.5,)\n",
      "(6.1,)\n",
      "(5.8,)\n",
      "(5.0,)\n",
      "(5.6,)\n",
      "(5.7,)\n",
      "(5.7,)\n",
      "(6.2,)\n",
      "(5.1,)\n",
      "(5.7,)\n"
     ]
    }
   ],
   "source": [
    "import sqlite3\n",
    "\n",
    "# Create a SQL connection to our SQLite database\n",
    "con = sqlite3.connect(\"iris.sqlite\")\n",
    "\n",
    "cur = con.cursor()\n",
    "\n",
    "# The result of a \"cursor.execute\" can be iterated over by row\n",
    "\n",
    "# For row in cur.execute('SELECT * FROM sqlite_master WHERE type = \"table\";'):\n",
    "# Print(row)\n",
    "    \n",
    "\n",
    "# Queries from database\n",
    "# for row in cur.execute('SELECT * FROM sqlite_master WHERE type = \"table\";'):\n",
    "\n",
    "for row in cur.execute('SELECT sepal_length FROM iris WHERE species = \"versicolor\";'):\n",
    "    print(row)\n",
    "\n",
    "#Be sure to close the connection.\n",
    "con.close()\n"
   ]
  },
  {
   "cell_type": "markdown",
   "metadata": {},
   "source": [
    "### Iniciando con Pandas\n",
    "Damos el número de filas y columnas del dataframe y hacemos la estadística descriptiva de los mismos."
   ]
  },
  {
   "cell_type": "code",
   "execution_count": 90,
   "metadata": {},
   "outputs": [
    {
     "name": "stdout",
     "output_type": "stream",
     "text": [
      "(Filas, Columnas) del dataframe: \n",
      "(150, 5)\n",
      "\n",
      "\n",
      "Estadística de los datos: \n"
     ]
    },
    {
     "data": {
      "text/html": [
       "<table border=\"1\" class=\"dataframe\">\n",
       "  <thead>\n",
       "    <tr style=\"text-align: right;\">\n",
       "      <th></th>\n",
       "      <th>sepal_length</th>\n",
       "      <th>sepal_width</th>\n",
       "      <th>petal_length</th>\n",
       "      <th>petal_width</th>\n",
       "    </tr>\n",
       "  </thead>\n",
       "  <tbody>\n",
       "    <tr>\n",
       "      <th>count</th>\n",
       "      <td>150.000000</td>\n",
       "      <td>150.000000</td>\n",
       "      <td>150.000000</td>\n",
       "      <td>150.000000</td>\n",
       "    </tr>\n",
       "    <tr>\n",
       "      <th>mean</th>\n",
       "      <td>5.843333</td>\n",
       "      <td>3.054000</td>\n",
       "      <td>3.758667</td>\n",
       "      <td>1.198667</td>\n",
       "    </tr>\n",
       "    <tr>\n",
       "      <th>std</th>\n",
       "      <td>0.828066</td>\n",
       "      <td>0.433594</td>\n",
       "      <td>1.764420</td>\n",
       "      <td>0.763161</td>\n",
       "    </tr>\n",
       "    <tr>\n",
       "      <th>min</th>\n",
       "      <td>4.300000</td>\n",
       "      <td>2.000000</td>\n",
       "      <td>1.000000</td>\n",
       "      <td>0.100000</td>\n",
       "    </tr>\n",
       "    <tr>\n",
       "      <th>25%</th>\n",
       "      <td>5.100000</td>\n",
       "      <td>2.800000</td>\n",
       "      <td>1.600000</td>\n",
       "      <td>0.300000</td>\n",
       "    </tr>\n",
       "    <tr>\n",
       "      <th>50%</th>\n",
       "      <td>5.800000</td>\n",
       "      <td>3.000000</td>\n",
       "      <td>4.350000</td>\n",
       "      <td>1.300000</td>\n",
       "    </tr>\n",
       "    <tr>\n",
       "      <th>75%</th>\n",
       "      <td>6.400000</td>\n",
       "      <td>3.300000</td>\n",
       "      <td>5.100000</td>\n",
       "      <td>1.800000</td>\n",
       "    </tr>\n",
       "    <tr>\n",
       "      <th>max</th>\n",
       "      <td>7.900000</td>\n",
       "      <td>4.400000</td>\n",
       "      <td>6.900000</td>\n",
       "      <td>2.500000</td>\n",
       "    </tr>\n",
       "  </tbody>\n",
       "</table>"
      ],
      "text/plain": [
       "<IPython.core.display.HTML object>"
      ]
     },
     "metadata": {},
     "output_type": "display_data"
    }
   ],
   "source": [
    "%matplotlib inline\n",
    "import pandas as pd\n",
    "import sqlite3\n",
    "import matplotlib.pyplot as plt\n",
    "from IPython.display import display, HTML\n",
    "\n",
    "# Read sqlite query results into a pandas DataFrame\n",
    "con = sqlite3.connect(\"iris.sqlite\")\n",
    "df = pd.read_sql_query(\"SELECT * from iris\", con)\n",
    "\n",
    "#Dar el número de columnas y filas que tienen el DataFrame\n",
    "print(\"(Filas, Columnas) del dataframe: \")\n",
    "print(df.shape)\n",
    "print(\"\\n\")\n",
    "\n",
    "#En caso de tener una tabla con muchos datos, da un resumen estadístico de la información \n",
    "print(\"Estadística de los datos: \")\n",
    "display(HTML(df.describe().to_html()))\n",
    "\n",
    "#Be sure to close the connection.\n",
    "con.close()"
   ]
  },
  {
   "cell_type": "markdown",
   "metadata": {},
   "source": [
    "### Filtrado y gráfica de la primera columna 'sepal_lenght' para las 3 especies\n",
    "Setosa color Rojo;\n",
    "Versicolor color Verde;\n",
    "Virginica color Azul"
   ]
  },
  {
   "cell_type": "code",
   "execution_count": 98,
   "metadata": {},
   "outputs": [
    {
     "data": {
      "image/png": "[encoded data removed]",
      "text/plain": [
       "<Figure size 432x288 with 1 Axes>"
      ]
     },
     "metadata": {},
     "output_type": "display_data"
    }
   ],
   "source": [
    "import sqlite3\n",
    "import pandas as pd\n",
    "import numpy as np\n",
    "import matplotlib.pyplot as pls\n",
    "\n",
    "# Create a SQL connection to our SQLite database\n",
    "con = sqlite3.connect(\"iris.sqlite\")\n",
    "\n",
    "cur = con.cursor()\n",
    "\n",
    "ax = plt.gca()\n",
    "\n",
    "setosa = pd.read_sql_query('SELECT sepal_length FROM iris WHERE species = \"setosa\"', con)\n",
    "versicolor = pd.read_sql_query('SELECT sepal_length FROM iris WHERE species = \"versicolor\"', con)\n",
    "virginica = pd.read_sql_query('SELECT sepal_length FROM iris WHERE species = \"virginica\"', con)\n",
    "    \n",
    "versicolor.plot(kind='bar', color='g', alpha=0.3, ax=ax)\n",
    "virginica.plot(kind='bar', color='b', alpha=0.3, ax=ax)\n",
    "setosa.plot(kind='bar', color='r', alpha=0.3, ax=ax)\n",
    "\n",
    "plt.savefig('grafica', dpi=None, facecolor='w', edgecolor='w',\n",
    "        orientation='portrait', papertype=None, format=None,\n",
    "        transparent=True, bbox_inches=None, pad_inches=0.1,\n",
    "        frameon=None, metadata=None)\n",
    "plt.show()\n",
    "    \n",
    "con.close()"
   ]
  },
  {
   "cell_type": "markdown",
   "metadata": {},
   "source": [
    "### Filtrado y gráfica de la segunda columna 'sepal_width' para las 3 especies\n",
    "Setosa color Rojo;\n",
    "Versicolor color Verde;\n",
    "Virginica color Azul"
   ]
  },
  {
   "cell_type": "code",
   "execution_count": 97,
   "metadata": {},
   "outputs": [
    {
     "data": {
      "image/png": "[encoded data removed]",
      "text/plain": [
       "<Figure size 432x288 with 1 Axes>"
      ]
     },
     "metadata": {},
     "output_type": "display_data"
    }
   ],
   "source": [
    "import sqlite3\n",
    "import pandas as pd\n",
    "import numpy as np\n",
    "import matplotlib.pyplot as pls\n",
    "\n",
    "# Create a SQL connection to our SQLite database\n",
    "con = sqlite3.connect(\"iris.sqlite\")\n",
    "\n",
    "cur = con.cursor()\n",
    "\n",
    "ax = plt.gca()\n",
    "\n",
    "setosa = pd.read_sql_query('SELECT sepal_width FROM iris WHERE species = \"setosa\"', con)\n",
    "versicolor = pd.read_sql_query('SELECT sepal_width FROM iris WHERE species = \"versicolor\"', con)\n",
    "virginica = pd.read_sql_query('SELECT sepal_width FROM iris WHERE species = \"virginica\"', con)\n",
    "    \n",
    "setosa.plot(kind='bar', color='r', alpha=0.3, ax=ax)\n",
    "virginica.plot(kind='bar', color='b', alpha=0.3, ax=ax)\n",
    "versicolor.plot(kind='bar', color='g', alpha=0.3, ax=ax)\n",
    "\n",
    "plt.savefig('grafica', dpi=None, facecolor='w', edgecolor='w',\n",
    "        orientation='portrait', papertype=None, format=None,\n",
    "        transparent=True, bbox_inches=None, pad_inches=0.1,\n",
    "        frameon=None, metadata=None)\n",
    "plt.show()\n",
    "    \n",
    "con.close()"
   ]
  },
  {
   "cell_type": "markdown",
   "metadata": {},
   "source": [
    "### Filtrado y gráfica de la tercera columna 'petal_length' para las 3 especies\n",
    "Setosa color Rojo;\n",
    "Versicolor color Verde;\n",
    "Virginica color Azul"
   ]
  },
  {
   "cell_type": "code",
   "execution_count": 95,
   "metadata": {},
   "outputs": [
    {
     "data": {
      "image/png": "[encoded data removed]",
      "text/plain": [
       "<Figure size 432x288 with 1 Axes>"
      ]
     },
     "metadata": {},
     "output_type": "display_data"
    }
   ],
   "source": [
    "import sqlite3\n",
    "import pandas as pd\n",
    "import numpy as np\n",
    "import matplotlib.pyplot as pls\n",
    "\n",
    "# Create a SQL connection to our SQLite database\n",
    "con = sqlite3.connect(\"iris.sqlite\")\n",
    "\n",
    "cur = con.cursor()\n",
    "\n",
    "ax = plt.gca()\n",
    "\n",
    "setosa = pd.read_sql_query('SELECT petal_length FROM iris WHERE species = \"setosa\"', con)\n",
    "versicolor = pd.read_sql_query('SELECT petal_length FROM iris WHERE species = \"versicolor\"', con)\n",
    "virginica = pd.read_sql_query('SELECT petal_length FROM iris WHERE species = \"virginica\"', con)\n",
    "    \n",
    "virginica.plot(kind='bar', color='b', alpha=0.3, ax=ax)\n",
    "versicolor.plot(kind='bar', color='g', alpha=0.3, ax=ax)\n",
    "setosa.plot(kind='bar', color='r', alpha=0.3, ax=ax)\n",
    "\n",
    "plt.savefig('grafica', dpi=None, facecolor='w', edgecolor='w',\n",
    "        orientation='portrait', papertype=None, format=None,\n",
    "        transparent=True, bbox_inches=None, pad_inches=0.1,\n",
    "        frameon=None, metadata=None)\n",
    "plt.show()\n",
    "    \n",
    "con.close()"
   ]
  },
  {
   "cell_type": "markdown",
   "metadata": {},
   "source": [
    "### Filtrado y gráfica de la cuarta columna 'petal_width' para las 3 especies\n",
    "Setosa color Rojo;\n",
    "Versicolor color Verde;\n",
    "Virginica color Azul"
   ]
  },
  {
   "cell_type": "code",
   "execution_count": 100,
   "metadata": {},
   "outputs": [
    {
     "data": {
      "image/png": "[encoded data removed]",
      "text/plain": [
       "<Figure size 432x288 with 1 Axes>"
      ]
     },
     "metadata": {},
     "output_type": "display_data"
    }
   ],
   "source": [
    "import sqlite3\n",
    "import pandas as pd\n",
    "import numpy as np\n",
    "import matplotlib.pyplot as pls\n",
    "\n",
    "# Create a SQL connection to our SQLite database\n",
    "con = sqlite3.connect(\"iris.sqlite\")\n",
    "\n",
    "cur = con.cursor()\n",
    "\n",
    "ax = plt.gca()\n",
    "\n",
    "setosa = pd.read_sql_query('SELECT petal_width FROM iris WHERE species = \"setosa\"', con)\n",
    "versicolor = pd.read_sql_query('SELECT petal_width FROM iris WHERE species = \"versicolor\"', con)\n",
    "virginica = pd.read_sql_query('SELECT petal_width FROM iris WHERE species = \"virginica\"', con)\n",
    "    \n",
    "virginica.plot(kind='bar', color='b', alpha=0.3, ax=ax)\n",
    "versicolor.plot(kind='bar', color='g', alpha=0.3, ax=ax)\n",
    "setosa.plot(kind='bar', color='r', alpha=0.3, ax=ax)\n",
    "\n",
    "plt.savefig('grafica', dpi=None, facecolor='w', edgecolor='w',\n",
    "        orientation='portrait', papertype=None, format=None,\n",
    "        transparent=True, bbox_inches=None, pad_inches=0.1,\n",
    "        frameon=None, metadata=None)\n",
    "plt.show()\n",
    "    \n",
    "con.close()"
   ]
  },
  {
   "cell_type": "code",
   "execution_count": null,
   "metadata": {},
   "outputs": [],
   "source": []
  }
 ],
 "metadata": {
  "kernelspec": {
   "display_name": "Python 3",
   "language": "python",
   "name": "python3"
  },
  "language_info": {
   "codemirror_mode": {
    "name": "ipython",
    "version": 3
   },
   "file_extension": ".py",
   "mimetype": "text/x-python",
   "name": "python",
   "nbconvert_exporter": "python",
   "pygments_lexer": "ipython3",
   "version": "3.6.5"
  }
 },
 "nbformat": 4,
 "nbformat_minor": 2
}
